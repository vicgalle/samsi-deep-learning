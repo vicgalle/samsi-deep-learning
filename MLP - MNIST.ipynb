{
 "cells": [
  {
   "cell_type": "markdown",
   "metadata": {},
   "source": [
    "# Train a MLP in MNIST Dataset"
   ]
  },
  {
   "cell_type": "code",
   "execution_count": 1,
   "metadata": {
    "collapsed": true
   },
   "outputs": [],
   "source": [
    "import torch\n",
    "import torchvision\n",
    "##\n",
    "import torch.nn as nn\n",
    "import torch.nn.functional as F\n",
    "import torch.optim as optim\n",
    "##\n",
    "import matplotlib.pyplot as plt"
   ]
  },
  {
   "cell_type": "markdown",
   "metadata": {},
   "source": [
    "## Download data"
   ]
  },
  {
   "cell_type": "code",
   "execution_count": 2,
   "metadata": {},
   "outputs": [],
   "source": [
    "batch_size_train = 32\n",
    "batch_size_test = 1000"
   ]
  },
  {
   "cell_type": "code",
   "execution_count": 3,
   "metadata": {},
   "outputs": [],
   "source": [
    "train_loader = torch.utils.data.DataLoader(\n",
    "  torchvision.datasets.MNIST('', train=True, download=True,\n",
    "                             transform=torchvision.transforms.Compose([\n",
    "                               torchvision.transforms.ToTensor(),\n",
    "                               torchvision.transforms.Normalize(\n",
    "                                 (0.1307,), (0.3081,))\n",
    "                             ])),\n",
    "  batch_size=batch_size_train, shuffle=True)\n",
    "\n",
    "test_loader = torch.utils.data.DataLoader(\n",
    "  torchvision.datasets.MNIST('', train=False, download=True,\n",
    "                             transform=torchvision.transforms.Compose([\n",
    "                               torchvision.transforms.ToTensor(),\n",
    "                               torchvision.transforms.Normalize(\n",
    "                                 (0.1307,), (0.3081,))\n",
    "                             ])),\n",
    "  batch_size=batch_size_test, shuffle=True)"
   ]
  },
  {
   "cell_type": "markdown",
   "metadata": {},
   "source": [
    "## Visualize some examples"
   ]
  },
  {
   "cell_type": "markdown",
   "metadata": {},
   "source": [
    "Let's extract a batch of examples and visualize some of them."
   ]
  },
  {
   "cell_type": "code",
   "execution_count": 4,
   "metadata": {
    "collapsed": true
   },
   "outputs": [],
   "source": [
    "examples = enumerate(test_loader)\n",
    "batch_idx, (example, label) = next(examples)"
   ]
  },
  {
   "cell_type": "code",
   "execution_count": 5,
   "metadata": {},
   "outputs": [
    {
     "data": {
      "text/plain": [
       "torch.Size([1000, 1, 28, 28])"
      ]
     },
     "execution_count": 5,
     "metadata": {},
     "output_type": "execute_result"
    }
   ],
   "source": [
    "example.shape"
   ]
  },
  {
   "cell_type": "code",
   "execution_count": 6,
   "metadata": {},
   "outputs": [
    {
     "data": {
      "image/png": "[encoded data removed]",
      "text/plain": [
       "<matplotlib.figure.Figure at 0x7f39a1c74080>"
      ]
     },
     "execution_count": 6,
     "metadata": {},
     "output_type": "execute_result"
    }
   ],
   "source": [
    "fig = plt.figure()\n",
    "for i in range(8):\n",
    "  plt.subplot(2,4,i+1)\n",
    "  plt.imshow(example[i][0], cmap='gray', interpolation='none')\n",
    "  plt.title(\"Label: {}\".format(label[i]))\n",
    "  plt.xticks([])\n",
    "  plt.yticks([])\n",
    "fig"
   ]
  },
  {
   "cell_type": "markdown",
   "metadata": {},
   "source": [
    "## Train MLP"
   ]
  },
  {
   "cell_type": "markdown",
   "metadata": {},
   "source": [
    "First of all, define the forward pass. We propose to use one hidden FC layer with 50 units, and an output layer with `log_softmax` activation, but feel free to create the network you prefer!"
   ]
  },
  {
   "cell_type": "code",
   "execution_count": 7,
   "metadata": {
    "collapsed": true
   },
   "outputs": [],
   "source": [
    "class MLP(nn.Module):\n",
    "    def __init__(self):\n",
    "        super(MLP, self).__init__()\n",
    "        self.fc1 = nn.Linear(28*28, 50)\n",
    "        self.fc2 = nn.Linear(50, 10)\n",
    "\n",
    "    def forward(self, x):\n",
    "        x = x.view(-1, 28*28)\n",
    "        x = F.relu(self.fc1(x))\n",
    "        x = self.fc2(x)\n",
    "        return F.log_softmax(x)"
   ]
  },
  {
   "cell_type": "markdown",
   "metadata": {},
   "source": [
    "Now, we initialize the network and choose the optimizer. We propose using SGD optimizer. Set the `learning_rate` to 0.01 and the `momentum` to 0.5."
   ]
  },
  {
   "cell_type": "code",
   "execution_count": 8,
   "metadata": {},
   "outputs": [],
   "source": [
    "learning_rate = 0.01\n",
    "momentum = 0.5\n",
    "mlp = MLP()\n",
    "optimizer = optim.SGD(mlp.parameters(), lr=learning_rate,\n",
    "                      momentum=momentum)"
   ]
  },
  {
   "cell_type": "markdown",
   "metadata": {},
   "source": [
    "Now let's train the model during 3 epochs. For monitoring purposes, print the training loss every 100 batches and store it."
   ]
  },
  {
   "cell_type": "code",
   "execution_count": 9,
   "metadata": {},
   "outputs": [
    {
     "name": "stderr",
     "output_type": "stream",
     "text": [
      "/home/roi/anaconda3/lib/python3.6/site-packages/ipykernel_launcher.py:11: UserWarning: Implicit dimension choice for log_softmax has been deprecated. Change the call to include dim=X as an argument.\n",
      "  # This is added back by InteractiveShellApp.init_path()\n"
     ]
    },
    {
     "name": "stdout",
     "output_type": "stream",
     "text": [
      "Train Epoch: 1 [0/60000 (0%)]\tLoss: 2.330635\n",
      "Train Epoch: 1 [3200/60000 (5%)]\tLoss: 0.884813\n",
      "Train Epoch: 1 [6400/60000 (11%)]\tLoss: 0.237693\n",
      "Train Epoch: 1 [9600/60000 (16%)]\tLoss: 0.348603\n",
      "Train Epoch: 1 [12800/60000 (21%)]\tLoss: 0.215347\n",
      "Train Epoch: 1 [16000/60000 (27%)]\tLoss: 0.404019\n",
      "Train Epoch: 1 [19200/60000 (32%)]\tLoss: 0.497935\n",
      "Train Epoch: 1 [22400/60000 (37%)]\tLoss: 0.562738\n",
      "Train Epoch: 1 [25600/60000 (43%)]\tLoss: 0.279279\n",
      "Train Epoch: 1 [28800/60000 (48%)]\tLoss: 0.388876\n",
      "Train Epoch: 1 [32000/60000 (53%)]\tLoss: 0.202214\n",
      "Train Epoch: 1 [35200/60000 (59%)]\tLoss: 0.227398\n",
      "Train Epoch: 1 [38400/60000 (64%)]\tLoss: 0.065144\n",
      "Train Epoch: 1 [41600/60000 (69%)]\tLoss: 0.238217\n",
      "Train Epoch: 1 [44800/60000 (75%)]\tLoss: 0.156617\n",
      "Train Epoch: 1 [48000/60000 (80%)]\tLoss: 0.186698\n",
      "Train Epoch: 1 [51200/60000 (85%)]\tLoss: 0.276182\n",
      "Train Epoch: 1 [54400/60000 (91%)]\tLoss: 0.074131\n",
      "Train Epoch: 1 [57600/60000 (96%)]\tLoss: 0.264180\n",
      "Train Epoch: 2 [0/60000 (0%)]\tLoss: 0.087495\n",
      "Train Epoch: 2 [3200/60000 (5%)]\tLoss: 0.304488\n",
      "Train Epoch: 2 [6400/60000 (11%)]\tLoss: 0.323226\n",
      "Train Epoch: 2 [9600/60000 (16%)]\tLoss: 0.064428\n",
      "Train Epoch: 2 [12800/60000 (21%)]\tLoss: 0.160631\n",
      "Train Epoch: 2 [16000/60000 (27%)]\tLoss: 0.257199\n",
      "Train Epoch: 2 [19200/60000 (32%)]\tLoss: 0.092660\n",
      "Train Epoch: 2 [22400/60000 (37%)]\tLoss: 0.436920\n",
      "Train Epoch: 2 [25600/60000 (43%)]\tLoss: 0.381240\n",
      "Train Epoch: 2 [28800/60000 (48%)]\tLoss: 0.060778\n",
      "Train Epoch: 2 [32000/60000 (53%)]\tLoss: 0.190185\n",
      "Train Epoch: 2 [35200/60000 (59%)]\tLoss: 0.308521\n",
      "Train Epoch: 2 [38400/60000 (64%)]\tLoss: 0.176951\n",
      "Train Epoch: 2 [41600/60000 (69%)]\tLoss: 0.192361\n",
      "Train Epoch: 2 [44800/60000 (75%)]\tLoss: 0.117519\n",
      "Train Epoch: 2 [48000/60000 (80%)]\tLoss: 0.211257\n",
      "Train Epoch: 2 [51200/60000 (85%)]\tLoss: 0.258800\n",
      "Train Epoch: 2 [54400/60000 (91%)]\tLoss: 0.264006\n",
      "Train Epoch: 2 [57600/60000 (96%)]\tLoss: 0.097853\n",
      "Train Epoch: 3 [0/60000 (0%)]\tLoss: 0.093402\n",
      "Train Epoch: 3 [3200/60000 (5%)]\tLoss: 0.083969\n",
      "Train Epoch: 3 [6400/60000 (11%)]\tLoss: 0.125263\n",
      "Train Epoch: 3 [9600/60000 (16%)]\tLoss: 0.477231\n",
      "Train Epoch: 3 [12800/60000 (21%)]\tLoss: 0.166133\n",
      "Train Epoch: 3 [16000/60000 (27%)]\tLoss: 0.099043\n",
      "Train Epoch: 3 [19200/60000 (32%)]\tLoss: 0.073251\n",
      "Train Epoch: 3 [22400/60000 (37%)]\tLoss: 0.033324\n",
      "Train Epoch: 3 [25600/60000 (43%)]\tLoss: 0.332573\n",
      "Train Epoch: 3 [28800/60000 (48%)]\tLoss: 0.362280\n",
      "Train Epoch: 3 [32000/60000 (53%)]\tLoss: 0.029217\n",
      "Train Epoch: 3 [35200/60000 (59%)]\tLoss: 0.211537\n",
      "Train Epoch: 3 [38400/60000 (64%)]\tLoss: 0.031730\n",
      "Train Epoch: 3 [41600/60000 (69%)]\tLoss: 0.048286\n",
      "Train Epoch: 3 [44800/60000 (75%)]\tLoss: 0.147455\n",
      "Train Epoch: 3 [48000/60000 (80%)]\tLoss: 0.020617\n",
      "Train Epoch: 3 [51200/60000 (85%)]\tLoss: 0.084247\n",
      "Train Epoch: 3 [54400/60000 (91%)]\tLoss: 0.210805\n",
      "Train Epoch: 3 [57600/60000 (96%)]\tLoss: 0.125873\n",
      "Train Epoch: 4 [0/60000 (0%)]\tLoss: 0.097389\n",
      "Train Epoch: 4 [3200/60000 (5%)]\tLoss: 0.033407\n",
      "Train Epoch: 4 [6400/60000 (11%)]\tLoss: 0.068951\n",
      "Train Epoch: 4 [9600/60000 (16%)]\tLoss: 0.127551\n",
      "Train Epoch: 4 [12800/60000 (21%)]\tLoss: 0.179631\n",
      "Train Epoch: 4 [16000/60000 (27%)]\tLoss: 0.060160\n",
      "Train Epoch: 4 [19200/60000 (32%)]\tLoss: 0.152115\n",
      "Train Epoch: 4 [22400/60000 (37%)]\tLoss: 0.171064\n",
      "Train Epoch: 4 [25600/60000 (43%)]\tLoss: 0.065198\n",
      "Train Epoch: 4 [28800/60000 (48%)]\tLoss: 0.160377\n",
      "Train Epoch: 4 [32000/60000 (53%)]\tLoss: 0.200165\n",
      "Train Epoch: 4 [35200/60000 (59%)]\tLoss: 0.020735\n",
      "Train Epoch: 4 [38400/60000 (64%)]\tLoss: 0.094760\n",
      "Train Epoch: 4 [41600/60000 (69%)]\tLoss: 0.033610\n",
      "Train Epoch: 4 [44800/60000 (75%)]\tLoss: 0.134198\n",
      "Train Epoch: 4 [48000/60000 (80%)]\tLoss: 0.018268\n",
      "Train Epoch: 4 [51200/60000 (85%)]\tLoss: 0.078401\n",
      "Train Epoch: 4 [54400/60000 (91%)]\tLoss: 0.039988\n",
      "Train Epoch: 4 [57600/60000 (96%)]\tLoss: 0.078969\n",
      "Train Epoch: 5 [0/60000 (0%)]\tLoss: 0.015551\n",
      "Train Epoch: 5 [3200/60000 (5%)]\tLoss: 0.250956\n",
      "Train Epoch: 5 [6400/60000 (11%)]\tLoss: 0.013649\n",
      "Train Epoch: 5 [9600/60000 (16%)]\tLoss: 0.202155\n",
      "Train Epoch: 5 [12800/60000 (21%)]\tLoss: 0.128638\n",
      "Train Epoch: 5 [16000/60000 (27%)]\tLoss: 0.207006\n",
      "Train Epoch: 5 [19200/60000 (32%)]\tLoss: 0.351763\n",
      "Train Epoch: 5 [22400/60000 (37%)]\tLoss: 0.308392\n",
      "Train Epoch: 5 [25600/60000 (43%)]\tLoss: 0.154775\n",
      "Train Epoch: 5 [28800/60000 (48%)]\tLoss: 0.145802\n",
      "Train Epoch: 5 [32000/60000 (53%)]\tLoss: 0.106330\n",
      "Train Epoch: 5 [35200/60000 (59%)]\tLoss: 0.021998\n",
      "Train Epoch: 5 [38400/60000 (64%)]\tLoss: 0.117227\n",
      "Train Epoch: 5 [41600/60000 (69%)]\tLoss: 0.043877\n",
      "Train Epoch: 5 [44800/60000 (75%)]\tLoss: 0.099325\n"
     ]
    },
    {
     "ename": "KeyboardInterrupt",
     "evalue": "",
     "output_type": "error",
     "traceback": [
      "\u001b[0;31m---------------------------------------------------------------------------\u001b[0m",
      "\u001b[0;31mKeyboardInterrupt\u001b[0m                         Traceback (most recent call last)",
      "\u001b[0;32m<ipython-input-9-d7d20b8f7448>\u001b[0m in \u001b[0;36m<module>\u001b[0;34m()\u001b[0m\n\u001b[1;32m      7\u001b[0m     \u001b[0moutput\u001b[0m \u001b[0;34m=\u001b[0m \u001b[0mmlp\u001b[0m\u001b[0;34m(\u001b[0m\u001b[0mdata\u001b[0m\u001b[0;34m)\u001b[0m \u001b[0;31m## forward pass of each batch\u001b[0m\u001b[0;34m\u001b[0m\u001b[0;34m\u001b[0m\u001b[0m\n\u001b[1;32m      8\u001b[0m     \u001b[0mloss\u001b[0m \u001b[0;34m=\u001b[0m \u001b[0mF\u001b[0m\u001b[0;34m.\u001b[0m\u001b[0mnll_loss\u001b[0m\u001b[0;34m(\u001b[0m\u001b[0moutput\u001b[0m\u001b[0;34m,\u001b[0m \u001b[0mtarget\u001b[0m\u001b[0;34m)\u001b[0m \u001b[0;31m## compute loss\u001b[0m\u001b[0;34m\u001b[0m\u001b[0;34m\u001b[0m\u001b[0m\n\u001b[0;32m----> 9\u001b[0;31m     \u001b[0mloss\u001b[0m\u001b[0;34m.\u001b[0m\u001b[0mbackward\u001b[0m\u001b[0;34m(\u001b[0m\u001b[0;34m)\u001b[0m \u001b[0;31m## Backpropagate the gradients\u001b[0m\u001b[0;34m\u001b[0m\u001b[0;34m\u001b[0m\u001b[0m\n\u001b[0m\u001b[1;32m     10\u001b[0m     \u001b[0moptimizer\u001b[0m\u001b[0;34m.\u001b[0m\u001b[0mstep\u001b[0m\u001b[0;34m(\u001b[0m\u001b[0;34m)\u001b[0m \u001b[0;31m## Update the parameters\u001b[0m\u001b[0;34m\u001b[0m\u001b[0;34m\u001b[0m\u001b[0m\n\u001b[1;32m     11\u001b[0m     \u001b[0;31m##\u001b[0m\u001b[0;34m\u001b[0m\u001b[0;34m\u001b[0m\u001b[0;34m\u001b[0m\u001b[0m\n",
      "\u001b[0;32m~/anaconda3/lib/python3.6/site-packages/torch/tensor.py\u001b[0m in \u001b[0;36mbackward\u001b[0;34m(self, gradient, retain_graph, create_graph)\u001b[0m\n\u001b[1;32m    105\u001b[0m                 \u001b[0mproducts\u001b[0m\u001b[0;34m.\u001b[0m \u001b[0mDefaults\u001b[0m \u001b[0mto\u001b[0m\u001b[0;31m \u001b[0m\u001b[0;31m`\u001b[0m\u001b[0;31m`\u001b[0m\u001b[0;32mFalse\u001b[0m\u001b[0;31m`\u001b[0m\u001b[0;31m`\u001b[0m\u001b[0;34m.\u001b[0m\u001b[0;34m\u001b[0m\u001b[0;34m\u001b[0m\u001b[0m\n\u001b[1;32m    106\u001b[0m         \"\"\"\n\u001b[0;32m--> 107\u001b[0;31m         \u001b[0mtorch\u001b[0m\u001b[0;34m.\u001b[0m\u001b[0mautograd\u001b[0m\u001b[0;34m.\u001b[0m\u001b[0mbackward\u001b[0m\u001b[0;34m(\u001b[0m\u001b[0mself\u001b[0m\u001b[0;34m,\u001b[0m \u001b[0mgradient\u001b[0m\u001b[0;34m,\u001b[0m \u001b[0mretain_graph\u001b[0m\u001b[0;34m,\u001b[0m \u001b[0mcreate_graph\u001b[0m\u001b[0;34m)\u001b[0m\u001b[0;34m\u001b[0m\u001b[0;34m\u001b[0m\u001b[0m\n\u001b[0m\u001b[1;32m    108\u001b[0m \u001b[0;34m\u001b[0m\u001b[0m\n\u001b[1;32m    109\u001b[0m     \u001b[0;32mdef\u001b[0m \u001b[0mregister_hook\u001b[0m\u001b[0;34m(\u001b[0m\u001b[0mself\u001b[0m\u001b[0;34m,\u001b[0m \u001b[0mhook\u001b[0m\u001b[0;34m)\u001b[0m\u001b[0;34m:\u001b[0m\u001b[0;34m\u001b[0m\u001b[0;34m\u001b[0m\u001b[0m\n",
      "\u001b[0;32m~/anaconda3/lib/python3.6/site-packages/torch/autograd/__init__.py\u001b[0m in \u001b[0;36mbackward\u001b[0;34m(tensors, grad_tensors, retain_graph, create_graph, grad_variables)\u001b[0m\n\u001b[1;32m     91\u001b[0m     Variable._execution_engine.run_backward(\n\u001b[1;32m     92\u001b[0m         \u001b[0mtensors\u001b[0m\u001b[0;34m,\u001b[0m \u001b[0mgrad_tensors\u001b[0m\u001b[0;34m,\u001b[0m \u001b[0mretain_graph\u001b[0m\u001b[0;34m,\u001b[0m \u001b[0mcreate_graph\u001b[0m\u001b[0;34m,\u001b[0m\u001b[0;34m\u001b[0m\u001b[0;34m\u001b[0m\u001b[0m\n\u001b[0;32m---> 93\u001b[0;31m         allow_unreachable=True)  # allow_unreachable flag\n\u001b[0m\u001b[1;32m     94\u001b[0m \u001b[0;34m\u001b[0m\u001b[0m\n\u001b[1;32m     95\u001b[0m \u001b[0;34m\u001b[0m\u001b[0m\n",
      "\u001b[0;31mKeyboardInterrupt\u001b[0m: "
     ]
    }
   ],
   "source": [
    "n_epochs = 10\n",
    "train_losses = []\n",
    "printing_interval = 100\n",
    "for epoch in range(1, n_epochs + 1):\n",
    "  for batch_idx, (data, target) in enumerate(train_loader):\n",
    "    optimizer.zero_grad() ## zero the gradients in each pass!\n",
    "    output = mlp(data) ## forward pass of each batch\n",
    "    loss = F.nll_loss(output, target) ## compute loss\n",
    "    loss.backward() ## Backpropagate the gradients\n",
    "    optimizer.step() ## Update the parameters\n",
    "    ##\n",
    "    if batch_idx % printing_interval == 0:\n",
    "      print('Train Epoch: {} [{}/{} ({:.0f}%)]\\tLoss: {:.6f}'.format(\n",
    "        epoch, batch_idx * len(data), len(train_loader.dataset),\n",
    "        100. * batch_idx / len(train_loader), loss.item()))\n",
    "      train_losses.append(loss.item())"
   ]
  },
  {
   "cell_type": "markdown",
   "metadata": {},
   "source": [
    "Now, let's plot the negative log likelihood."
   ]
  },
  {
   "cell_type": "code",
   "execution_count": 10,
   "metadata": {},
   "outputs": [
    {
     "data": {
      "image/png": "[encoded data removed]",
      "text/plain": [
       "<matplotlib.figure.Figure at 0x7f39a1c4f828>"
      ]
     },
     "execution_count": 10,
     "metadata": {},
     "output_type": "execute_result"
    }
   ],
   "source": [
    "fig = plt.figure()\n",
    "plt.plot(range(len(train_losses)), train_losses, color='blue')\n",
    "plt.legend(['Train Loss'], loc='upper right')\n",
    "plt.ylabel('negative log likelihood loss')\n",
    "fig"
   ]
  },
  {
   "cell_type": "markdown",
   "metadata": {},
   "source": [
    "## Evaluate the model in test data"
   ]
  },
  {
   "cell_type": "code",
   "execution_count": 13,
   "metadata": {},
   "outputs": [
    {
     "name": "stderr",
     "output_type": "stream",
     "text": [
      "/home/roi/anaconda3/lib/python3.6/site-packages/ipykernel_launcher.py:11: UserWarning: Implicit dimension choice for log_softmax has been deprecated. Change the call to include dim=X as an argument.\n",
      "  # This is added back by InteractiveShellApp.init_path()\n",
      "/home/roi/anaconda3/lib/python3.6/site-packages/torch/nn/_reduction.py:46: UserWarning: size_average and reduce args will be deprecated, please use reduction='sum' instead.\n",
      "  warnings.warn(warning.format(ret))\n"
     ]
    },
    {
     "name": "stdout",
     "output_type": "stream",
     "text": [
      "Test set: Avg. loss: 0.1138, Accuracy: 9651/10000 (96%)\n",
      "\n"
     ]
    }
   ],
   "source": [
    "test_loss = 0\n",
    "number_of_correct = 0\n",
    "predictions = torch.empty(10, 1000, 1)\n",
    "i=0\n",
    "with torch.no_grad():\n",
    "    for data, target in test_loader:\n",
    "        output = mlp(data)\n",
    "        test_loss += F.nll_loss(output, target, size_average=False).item()\n",
    "        pred = output.data.max(1, keepdim=True)[1]\n",
    "        predictions[i] = pred\n",
    "        number_of_correct += pred.eq(target.data.view_as(pred)).sum()\n",
    "        i+=1\n",
    "    test_loss /= len(test_loader.dataset)\n",
    "    print('Test set: Avg. loss: {:.4f}, Accuracy: {}/{} ({:.0f}%)\\n'.format(\n",
    "    test_loss, number_of_correct, len(test_loader.dataset),\n",
    "    100. * number_of_correct / len(test_loader.dataset)))"
   ]
  },
  {
   "cell_type": "markdown",
   "metadata": {},
   "source": [
    "## Can we improve using regularization?"
   ]
  },
  {
   "cell_type": "code",
   "execution_count": null,
   "metadata": {
    "collapsed": true
   },
   "outputs": [],
   "source": []
  }
 ],
 "metadata": {
  "kernelspec": {
   "display_name": "Python 3",
   "language": "python",
   "name": "python3"
  },
  "language_info": {
   "codemirror_mode": {
    "name": "ipython",
    "version": 3
   },
   "file_extension": ".py",
   "mimetype": "text/x-python",
   "name": "python",
   "nbconvert_exporter": "python",
   "pygments_lexer": "ipython3",
   "version": "3.6.8"
  }
 },
 "nbformat": 4,
 "nbformat_minor": 2
}
