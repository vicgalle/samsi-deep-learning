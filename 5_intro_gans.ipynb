{
 "cells": [
  {
   "cell_type": "markdown",
   "metadata": {},
   "source": [
    "## Logistic Regression for the MNIST dataset\n",
    "\n",
    "In this notebook we will continue using Pytorch. Now, we will create a shallow model (the logistic regression), plus the full training pipeline in order to train and evaluate this model over the MNIST dataset."
   ]
  },
  {
   "cell_type": "code",
   "execution_count": 1,
   "metadata": {
    "collapsed": true
   },
   "outputs": [],
   "source": [
    "import torch\n",
    "import torch.nn as nn\n",
    "import torch.nn.functional as F\n",
    "import torch.optim as optim\n",
    "from torchvision import datasets, transforms\n",
    "import matplotlib.pyplot as plt"
   ]
  },
  {
   "cell_type": "markdown",
   "metadata": {},
   "source": [
    "Next, we will define some hyperparameters and config options"
   ]
  },
  {
   "cell_type": "code",
   "execution_count": 2,
   "metadata": {
    "collapsed": true
   },
   "outputs": [],
   "source": [
    "# Set the random seed, so the experiment is reproducible\n",
    "seed = 0\n",
    "torch.manual_seed(seed)\n",
    "# For the moment, we will just train on CPU, so no cuda\n",
    "use_cuda = False\n",
    "device = torch.device(\"cuda\" if use_cuda else \"cpu\")\n",
    "# We use a batch size of 32 examples while training, and 1000 while testing\n",
    "batch_size = 32\n",
    "test_batch_size = 1000\n",
    "# We will use SGD with a momentum term\n",
    "momentum = 0.5\n",
    "# The learning rate\n",
    "lr = 0.01\n",
    "# The number of epochs\n",
    "epochs = 3\n",
    "# The size of the input. MNIST are greyscale images, 28x28 pixels each\n",
    "im_size = 28*28"
   ]
  },
  {
   "cell_type": "markdown",
   "metadata": {},
   "source": [
    "Now, we are ready to define our pytorch model. This is done by creating a class that extends nn.Module, with two methods:\n",
    "\n",
    "* __init__ : used to define and initialize the parameters of the model (for the LR, this is just a weight matrix of size 28*28 x 10, since we want to project to a 10-dimensional space to predict the digit. We could have define this explicitly, but with pytorch we have nn.Linear which is a shorthand for a linear projection.\n",
    "\n",
    "* forward: used to define the computation in the model. We just want to apply the linear projection to the input, and then the softmax transformation (so that the output of the model can be interpreted as a probability distribution over the 10 digits).\n",
    "\n",
    "Two things to note:\n",
    "\n",
    "1. Since the images are tensors of size 28x28, and the Linear operator expects a 1-d array (since it is the operation Wx), we need to flatten the image using the method view (as a reshape).\n",
    "2. Since the loss function is nll_loss (see next cell), it expects the input to be in log space, thats why we use log_softmax instead of softmax (see https://pytorch.org/docs/stable/nn.functional.html#log-softmax)"
   ]
  },
  {
   "cell_type": "code",
   "execution_count": 3,
   "metadata": {
    "collapsed": true
   },
   "outputs": [],
   "source": [
    "class LogisticRegression(nn.Module):\n",
    "    def __init__(self):\n",
    "        super(LogisticRegression, self).__init__()\n",
    "        self.lin = nn.Linear(im_size, 10)\n",
    "\n",
    "    def forward(self, x):\n",
    "        x_flat = x.view(-1, im_size)\n",
    "        return F.log_softmax(self.lin(x_flat), dim=1)"
   ]
  },
  {
   "cell_type": "markdown",
   "metadata": {},
   "source": [
    "Next, we define the training loop.\n",
    "For each minibatch (obtained using enumerate(train_loader) (see later for how the dataset is generated), we do the following:\n",
    "\n",
    "1. Move x, y (data, target) to the GPU if necessary (using .to(device))\n",
    "2. Reset the gradients to zero (from previous iterations) using .zero_grad()\n",
    "3. Forward pass: we compute the predictions using model(data) (which is y = f(x) with f being the logistic regression)\n",
    "4. Backward pass: we compute the gradients using .backward(), and then we apply one step of the optimizer, that is performing $w \\leftarrow w - lr * \\nabla (loss(f(x), y)$ for the case of gradient descent."
   ]
  },
  {
   "cell_type": "code",
   "execution_count": 4,
   "metadata": {
    "collapsed": true
   },
   "outputs": [],
   "source": [
    "def train(model, device, train_loader, optimizer, epoch, train_losses):\n",
    "    model.train()\n",
    "    for batch_idx, (data, target) in enumerate(train_loader):\n",
    "        data, target = data.to(device), target.to(device)\n",
    "        optimizer.zero_grad()\n",
    "        output = model(data)\n",
    "        loss = F.nll_loss(output, target)\n",
    "        loss.backward()\n",
    "        optimizer.step()\n",
    "        if batch_idx % 100 == 0:\n",
    "            print('Train Epoch: {} [{}/{} ({:.0f}%)]\\tLoss: {:.6f}'.format(\n",
    "                epoch, batch_idx * len(data), len(train_loader.dataset),\n",
    "                100. * batch_idx / len(train_loader), loss.item()))\n",
    "            train_losses.append(loss.item())"
   ]
  },
  {
   "cell_type": "markdown",
   "metadata": {},
   "source": [
    "We can also create a function to evaluate our model. It is very similar to the previous one, but the main differences are:\n",
    "    \n",
    "1. We use torch.no_grad() to prevent gradient computations and changing the weights of the model.\n",
    "2. Once we have the predicted distribution, we use .argmax to compute the most probable digit. We also compute the accuracy of our model"
   ]
  },
  {
   "cell_type": "code",
   "execution_count": 5,
   "metadata": {
    "collapsed": true
   },
   "outputs": [],
   "source": [
    "def test(model, device, test_loader):\n",
    "    model.eval()\n",
    "    test_loss = 0\n",
    "    correct = 0\n",
    "    with torch.no_grad():\n",
    "        for data, target in test_loader:\n",
    "            data, target = data.to(device), target.to(device)\n",
    "            output = model(data)\n",
    "            test_loss += F.nll_loss(output, target, reduction='sum').item() # sum up batch loss\n",
    "            pred = output.argmax(dim=1, keepdim=True) # get the index of the max log-probability\n",
    "            correct += pred.eq(target.view_as(pred)).sum().item()\n",
    "\n",
    "    test_loss /= len(test_loader.dataset)\n",
    "\n",
    "    print('\\nTest set: Average loss: {:.4f}, Accuracy: {}/{} ({:.0f}%)\\n'.format(\n",
    "        test_loss, correct, len(test_loader.dataset),\n",
    "        100. * correct / len(test_loader.dataset)))"
   ]
  },
  {
   "cell_type": "markdown",
   "metadata": {
    "collapsed": true
   },
   "source": [
    "Now, we are going to load the dataset. Since the MNIST dataset is very popular, PyTorch already has it included into datasets.MNIST, and will automatically download it the first time. We can also specify some transformations, like converting the matrix to a tensor and normalize the pixels\n",
    "\n",
    "Note that we create two data loaders: one for the training set and another one for the testing set. Since this is just a quick experiment, we are not going to validate the initial hyperparameters, so we don't create another data loader for a validation set.\n",
    "\n",
    "The main benefit of the DataLoader class is that it creates an object which can be used in a for loop, as we did in the previous train function, to iterate over the minibatches."
   ]
  },
  {
   "cell_type": "code",
   "execution_count": 6,
   "metadata": {},
   "outputs": [],
   "source": [
    "train_loader = torch.utils.data.DataLoader(\n",
    "    datasets.MNIST('../data', train=True, download=True,\n",
    "                   transform=transforms.Compose([\n",
    "                       transforms.ToTensor(),\n",
    "                       transforms.Normalize((0.1307,), (0.3081,))\n",
    "                   ])),\n",
    "    batch_size=batch_size, shuffle=True)\n",
    "\n",
    "test_loader = torch.utils.data.DataLoader(\n",
    "    datasets.MNIST('../data', train=False, transform=transforms.Compose([\n",
    "                       transforms.ToTensor(),\n",
    "                       transforms.Normalize((0.1307,), (0.3081,))\n",
    "                   ])),\n",
    "    batch_size=test_batch_size, shuffle=True)"
   ]
  },
  {
   "cell_type": "markdown",
   "metadata": {},
   "source": [
    "Let's visualize some examples together with the true labels."
   ]
  },
  {
   "cell_type": "code",
   "execution_count": 7,
   "metadata": {},
   "outputs": [
    {
     "data": {
      "text/plain": [
       "torch.Size([1000, 1, 28, 28])"
      ]
     },
     "execution_count": 7,
     "metadata": {},
     "output_type": "execute_result"
    }
   ],
   "source": [
    "examples = enumerate(test_loader)\n",
    "batch_idx, (example, label) = next(examples)\n",
    "example.shape"
   ]
  },
  {
   "cell_type": "code",
   "execution_count": 8,
   "metadata": {},
   "outputs": [
    {
     "data": {
      "image/png": "[encoded data removed]",
      "text/plain": [
       "<matplotlib.figure.Figure at 0x7f1564bf4438>"
      ]
     },
     "execution_count": 8,
     "metadata": {},
     "output_type": "execute_result"
    }
   ],
   "source": [
    "fig = plt.figure()\n",
    "for i in range(8):\n",
    "  plt.subplot(2,4,i+1)\n",
    "  plt.imshow(example[i][0], cmap='gray', interpolation='none')\n",
    "  plt.title(\"Label: {}\".format(label[i]))\n",
    "  plt.xticks([])\n",
    "  plt.yticks([])\n",
    "fig"
   ]
  },
  {
   "cell_type": "markdown",
   "metadata": {},
   "source": [
    "Now, we are almost done! We just instantiate the model, and tell which optimizer are we going to use, in this case, stochastic gradient descent"
   ]
  },
  {
   "cell_type": "code",
   "execution_count": 9,
   "metadata": {},
   "outputs": [],
   "source": [
    "model = LogisticRegression().to(device)\n",
    "optimizer = optim.SGD(model.parameters(), lr=lr, momentum=momentum)"
   ]
  },
  {
   "cell_type": "markdown",
   "metadata": {},
   "source": [
    "And finally, a simple loop over the number of epochs. This should take over a few minutes in a simple laptop cpu.."
   ]
  },
  {
   "cell_type": "code",
   "execution_count": 10,
   "metadata": {},
   "outputs": [
    {
     "name": "stdout",
     "output_type": "stream",
     "text": [
      "Train Epoch: 1 [0/60000 (0%)]\tLoss: 2.451776\n",
      "Train Epoch: 1 [3200/60000 (5%)]\tLoss: 0.747278\n",
      "Train Epoch: 1 [6400/60000 (11%)]\tLoss: 0.607951\n",
      "Train Epoch: 1 [9600/60000 (16%)]\tLoss: 0.449380\n",
      "Train Epoch: 1 [12800/60000 (21%)]\tLoss: 0.344543\n",
      "Train Epoch: 1 [16000/60000 (27%)]\tLoss: 0.172929\n",
      "Train Epoch: 1 [19200/60000 (32%)]\tLoss: 0.434396\n",
      "Train Epoch: 1 [22400/60000 (37%)]\tLoss: 0.192195\n",
      "Train Epoch: 1 [25600/60000 (43%)]\tLoss: 0.384779\n",
      "Train Epoch: 1 [28800/60000 (48%)]\tLoss: 0.489098\n",
      "Train Epoch: 1 [32000/60000 (53%)]\tLoss: 0.262179\n",
      "Train Epoch: 1 [35200/60000 (59%)]\tLoss: 0.172913\n",
      "Train Epoch: 1 [38400/60000 (64%)]\tLoss: 0.657756\n",
      "Train Epoch: 1 [41600/60000 (69%)]\tLoss: 0.335815\n",
      "Train Epoch: 1 [44800/60000 (75%)]\tLoss: 0.254254\n",
      "Train Epoch: 1 [48000/60000 (80%)]\tLoss: 0.438054\n",
      "Train Epoch: 1 [51200/60000 (85%)]\tLoss: 0.184763\n",
      "Train Epoch: 1 [54400/60000 (91%)]\tLoss: 0.156785\n",
      "Train Epoch: 1 [57600/60000 (96%)]\tLoss: 0.219509\n",
      "\n",
      "Test set: Average loss: 0.2898, Accuracy: 9176/10000 (92%)\n",
      "\n",
      "Train Epoch: 2 [0/60000 (0%)]\tLoss: 0.183649\n",
      "Train Epoch: 2 [3200/60000 (5%)]\tLoss: 0.132637\n",
      "Train Epoch: 2 [6400/60000 (11%)]\tLoss: 0.255301\n",
      "Train Epoch: 2 [9600/60000 (16%)]\tLoss: 0.376051\n",
      "Train Epoch: 2 [12800/60000 (21%)]\tLoss: 0.222458\n",
      "Train Epoch: 2 [16000/60000 (27%)]\tLoss: 0.289201\n",
      "Train Epoch: 2 [19200/60000 (32%)]\tLoss: 0.562356\n",
      "Train Epoch: 2 [22400/60000 (37%)]\tLoss: 0.352593\n",
      "Train Epoch: 2 [25600/60000 (43%)]\tLoss: 0.555948\n",
      "Train Epoch: 2 [28800/60000 (48%)]\tLoss: 0.578471\n",
      "Train Epoch: 2 [32000/60000 (53%)]\tLoss: 0.237165\n",
      "Train Epoch: 2 [35200/60000 (59%)]\tLoss: 0.376687\n",
      "Train Epoch: 2 [38400/60000 (64%)]\tLoss: 0.560380\n",
      "Train Epoch: 2 [41600/60000 (69%)]\tLoss: 0.320704\n",
      "Train Epoch: 2 [44800/60000 (75%)]\tLoss: 0.607076\n",
      "Train Epoch: 2 [48000/60000 (80%)]\tLoss: 0.551095\n",
      "Train Epoch: 2 [51200/60000 (85%)]\tLoss: 0.164039\n",
      "Train Epoch: 2 [54400/60000 (91%)]\tLoss: 0.247533\n",
      "Train Epoch: 2 [57600/60000 (96%)]\tLoss: 0.167713\n",
      "\n",
      "Test set: Average loss: 0.2790, Accuracy: 9194/10000 (92%)\n",
      "\n",
      "Train Epoch: 3 [0/60000 (0%)]\tLoss: 0.683573\n",
      "Train Epoch: 3 [3200/60000 (5%)]\tLoss: 0.109873\n",
      "Train Epoch: 3 [6400/60000 (11%)]\tLoss: 0.430049\n",
      "Train Epoch: 3 [9600/60000 (16%)]\tLoss: 0.233136\n",
      "Train Epoch: 3 [12800/60000 (21%)]\tLoss: 0.323978\n",
      "Train Epoch: 3 [16000/60000 (27%)]\tLoss: 0.309407\n",
      "Train Epoch: 3 [19200/60000 (32%)]\tLoss: 0.179022\n",
      "Train Epoch: 3 [22400/60000 (37%)]\tLoss: 0.272989\n",
      "Train Epoch: 3 [25600/60000 (43%)]\tLoss: 0.262438\n",
      "Train Epoch: 3 [28800/60000 (48%)]\tLoss: 0.652400\n",
      "Train Epoch: 3 [32000/60000 (53%)]\tLoss: 0.294648\n",
      "Train Epoch: 3 [35200/60000 (59%)]\tLoss: 0.183302\n",
      "Train Epoch: 3 [38400/60000 (64%)]\tLoss: 0.081914\n",
      "Train Epoch: 3 [41600/60000 (69%)]\tLoss: 0.290835\n",
      "Train Epoch: 3 [44800/60000 (75%)]\tLoss: 0.106422\n",
      "Train Epoch: 3 [48000/60000 (80%)]\tLoss: 0.388546\n",
      "Train Epoch: 3 [51200/60000 (85%)]\tLoss: 0.355330\n",
      "Train Epoch: 3 [54400/60000 (91%)]\tLoss: 0.375802\n",
      "Train Epoch: 3 [57600/60000 (96%)]\tLoss: 1.042810\n",
      "\n",
      "Test set: Average loss: 0.2822, Accuracy: 9206/10000 (92%)\n",
      "\n"
     ]
    }
   ],
   "source": [
    "train_losses = []\n",
    "for epoch in range(1, epochs + 1):\n",
    "        train(model, device, train_loader, optimizer, epoch, train_losses)\n",
    "        test(model, device, test_loader)"
   ]
  },
  {
   "cell_type": "markdown",
   "metadata": {},
   "source": [
    "Let's visualize the training losses"
   ]
  },
  {
   "cell_type": "code",
   "execution_count": 12,
   "metadata": {},
   "outputs": [
    {
     "data": {
      "image/png": "[encoded data removed]",
      "text/plain": [
       "<matplotlib.figure.Figure at 0x7f155c4028d0>"
      ]
     },
     "execution_count": 12,
     "metadata": {},
     "output_type": "execute_result"
    }
   ],
   "source": [
    "fig = plt.figure()\n",
    "plt.plot(range(len(train_losses)), train_losses, color='blue')\n",
    "plt.legend(['Train Loss'], loc='upper right')\n",
    "plt.ylabel('negative log likelihood loss')\n",
    "fig"
   ]
  },
  {
   "cell_type": "markdown",
   "metadata": {},
   "source": [
    "As our first attemp, we obtained over 92% accuracy, which is not so bad, but soon we will see how to vastly improve on this result!"
   ]
  },
  {
   "cell_type": "markdown",
   "metadata": {
    "collapsed": true
   },
   "source": [
    "## Multilayer Perceptron for MNIST dataset\n",
    "\n",
    "We will try to improve the previous results by training a deeper network. "
   ]
  },
  {
   "cell_type": "markdown",
   "metadata": {},
   "source": [
    "### Train MLP\n",
    "First of all, define the forward pass. We propose to use one hidden FC layer with 50 units, and an output layer with `log_softmax` activation, but feel free to create the network you prefer!"
   ]
  },
  {
   "cell_type": "code",
   "execution_count": 13,
   "metadata": {
    "collapsed": true
   },
   "outputs": [],
   "source": [
    "class MLP(nn.Module):\n",
    "    def __init__(self):\n",
    "        super(MLP, self).__init__()\n",
    "        self.fc1 = nn.Linear(28*28, 50)\n",
    "        self.fc2 = nn.Linear(50, 10)\n",
    "\n",
    "    def forward(self, x):\n",
    "        x = x.view(-1, 28*28)\n",
    "        x = F.relu(self.fc1(x))\n",
    "        x = self.fc2(x)\n",
    "        return F.log_softmax(x)"
   ]
  },
  {
   "cell_type": "markdown",
   "metadata": {},
   "source": [
    "Now, we initialize the network and choose the optimizer. We propose using SGD optimizer. Set the `learning_rate` to 0.01 and the `momentum` to 0.5."
   ]
  },
  {
   "cell_type": "code",
   "execution_count": 15,
   "metadata": {},
   "outputs": [],
   "source": [
    "learning_rate = 0.01\n",
    "momentum = 0.5\n",
    "model = MLP().to(device)\n",
    "optimizer = optim.SGD(model.parameters(), lr=learning_rate,\n",
    "                      momentum=momentum)"
   ]
  },
  {
   "cell_type": "markdown",
   "metadata": {},
   "source": [
    "Now let's train the model during 3 epochs. For monitoring purposes, print the training loss every 100 batches and store it."
   ]
  },
  {
   "cell_type": "code",
   "execution_count": 18,
   "metadata": {},
   "outputs": [
    {
     "name": "stderr",
     "output_type": "stream",
     "text": [
      "/home/roi/anaconda3/lib/python3.6/site-packages/ipykernel_launcher.py:11: UserWarning: Implicit dimension choice for log_softmax has been deprecated. Change the call to include dim=X as an argument.\n",
      "  # This is added back by InteractiveShellApp.init_path()\n"
     ]
    },
    {
     "name": "stdout",
     "output_type": "stream",
     "text": [
      "Train Epoch: 1 [0/60000 (0%)]\tLoss: 2.333978\n",
      "Train Epoch: 1 [3200/60000 (5%)]\tLoss: 0.702726\n",
      "Train Epoch: 1 [6400/60000 (11%)]\tLoss: 0.553314\n",
      "Train Epoch: 1 [9600/60000 (16%)]\tLoss: 0.447418\n",
      "Train Epoch: 1 [12800/60000 (21%)]\tLoss: 0.381252\n",
      "Train Epoch: 1 [16000/60000 (27%)]\tLoss: 0.444157\n",
      "Train Epoch: 1 [19200/60000 (32%)]\tLoss: 0.156283\n",
      "Train Epoch: 1 [22400/60000 (37%)]\tLoss: 0.153781\n",
      "Train Epoch: 1 [25600/60000 (43%)]\tLoss: 0.273984\n",
      "Train Epoch: 1 [28800/60000 (48%)]\tLoss: 0.191273\n",
      "Train Epoch: 1 [32000/60000 (53%)]\tLoss: 0.143926\n",
      "Train Epoch: 1 [35200/60000 (59%)]\tLoss: 0.249884\n",
      "Train Epoch: 1 [38400/60000 (64%)]\tLoss: 0.378720\n",
      "Train Epoch: 1 [41600/60000 (69%)]\tLoss: 0.334598\n",
      "Train Epoch: 1 [44800/60000 (75%)]\tLoss: 0.330522\n",
      "Train Epoch: 1 [48000/60000 (80%)]\tLoss: 0.350831\n",
      "Train Epoch: 1 [51200/60000 (85%)]\tLoss: 0.089973\n",
      "Train Epoch: 1 [54400/60000 (91%)]\tLoss: 0.144599\n",
      "Train Epoch: 1 [57600/60000 (96%)]\tLoss: 0.167678\n",
      "\n",
      "Test set: Average loss: 0.2270, Accuracy: 9338/10000 (93%)\n",
      "\n",
      "Train Epoch: 2 [0/60000 (0%)]\tLoss: 0.238733\n",
      "Train Epoch: 2 [3200/60000 (5%)]\tLoss: 0.182948\n",
      "Train Epoch: 2 [6400/60000 (11%)]\tLoss: 0.541300\n",
      "Train Epoch: 2 [9600/60000 (16%)]\tLoss: 0.174779\n",
      "Train Epoch: 2 [12800/60000 (21%)]\tLoss: 0.268026\n",
      "Train Epoch: 2 [16000/60000 (27%)]\tLoss: 0.129040\n",
      "Train Epoch: 2 [19200/60000 (32%)]\tLoss: 0.121549\n",
      "Train Epoch: 2 [22400/60000 (37%)]\tLoss: 0.157314\n",
      "Train Epoch: 2 [25600/60000 (43%)]\tLoss: 0.121449\n",
      "Train Epoch: 2 [28800/60000 (48%)]\tLoss: 0.246961\n",
      "Train Epoch: 2 [32000/60000 (53%)]\tLoss: 0.138672\n",
      "Train Epoch: 2 [35200/60000 (59%)]\tLoss: 0.158757\n",
      "Train Epoch: 2 [38400/60000 (64%)]\tLoss: 0.228017\n",
      "Train Epoch: 2 [41600/60000 (69%)]\tLoss: 0.337682\n",
      "Train Epoch: 2 [44800/60000 (75%)]\tLoss: 0.039425\n",
      "Train Epoch: 2 [48000/60000 (80%)]\tLoss: 0.180993\n",
      "Train Epoch: 2 [51200/60000 (85%)]\tLoss: 0.202001\n",
      "Train Epoch: 2 [54400/60000 (91%)]\tLoss: 0.155060\n",
      "Train Epoch: 2 [57600/60000 (96%)]\tLoss: 0.165280\n",
      "\n",
      "Test set: Average loss: 0.1617, Accuracy: 9530/10000 (95%)\n",
      "\n",
      "Train Epoch: 3 [0/60000 (0%)]\tLoss: 0.284827\n",
      "Train Epoch: 3 [3200/60000 (5%)]\tLoss: 0.183600\n",
      "Train Epoch: 3 [6400/60000 (11%)]\tLoss: 0.086945\n",
      "Train Epoch: 3 [9600/60000 (16%)]\tLoss: 0.109416\n",
      "Train Epoch: 3 [12800/60000 (21%)]\tLoss: 0.261974\n",
      "Train Epoch: 3 [16000/60000 (27%)]\tLoss: 0.176709\n",
      "Train Epoch: 3 [19200/60000 (32%)]\tLoss: 0.064136\n",
      "Train Epoch: 3 [22400/60000 (37%)]\tLoss: 0.144867\n",
      "Train Epoch: 3 [25600/60000 (43%)]\tLoss: 0.144628\n",
      "Train Epoch: 3 [28800/60000 (48%)]\tLoss: 0.064711\n",
      "Train Epoch: 3 [32000/60000 (53%)]\tLoss: 0.060300\n",
      "Train Epoch: 3 [35200/60000 (59%)]\tLoss: 0.130378\n",
      "Train Epoch: 3 [38400/60000 (64%)]\tLoss: 0.058080\n",
      "Train Epoch: 3 [41600/60000 (69%)]\tLoss: 0.433603\n",
      "Train Epoch: 3 [44800/60000 (75%)]\tLoss: 0.157228\n",
      "Train Epoch: 3 [48000/60000 (80%)]\tLoss: 0.085178\n",
      "Train Epoch: 3 [51200/60000 (85%)]\tLoss: 0.123862\n",
      "Train Epoch: 3 [54400/60000 (91%)]\tLoss: 0.086536\n",
      "Train Epoch: 3 [57600/60000 (96%)]\tLoss: 0.122730\n",
      "\n",
      "Test set: Average loss: 0.1360, Accuracy: 9592/10000 (96%)\n",
      "\n"
     ]
    }
   ],
   "source": [
    "training_losses = []\n",
    "for epoch in range(1, epochs + 1):\n",
    "    train(model, device, train_loader, optimizer, epoch, training_losses)\n",
    "    test(model, device, test_loader)"
   ]
  },
  {
   "cell_type": "markdown",
   "metadata": {},
   "source": [
    "Let's plot the training loss"
   ]
  },
  {
   "cell_type": "code",
   "execution_count": 19,
   "metadata": {},
   "outputs": [
    {
     "data": {
      "image/png": "[encoded data removed]",
      "text/plain": [
       "<matplotlib.figure.Figure at 0x7f155f1a1080>"
      ]
     },
     "execution_count": 19,
     "metadata": {},
     "output_type": "execute_result"
    }
   ],
   "source": [
    "fig = plt.figure()\n",
    "plt.plot(range(len(train_losses)), train_losses, color='blue')\n",
    "plt.legend(['Train Loss'], loc='upper right')\n",
    "plt.ylabel('negative log likelihood loss')\n",
    "fig"
   ]
  },
  {
   "cell_type": "markdown",
   "metadata": {},
   "source": [
    "We have 96% acccuracy!"
   ]
  }
 ],
 "metadata": {
  "kernelspec": {
   "display_name": "Python 3",
   "language": "python",
   "name": "python3"
  },
  "language_info": {
   "codemirror_mode": {
    "name": "ipython",
    "version": 3
   },
   "file_extension": ".py",
   "mimetype": "text/x-python",
   "name": "python",
   "nbconvert_exporter": "python",
   "pygments_lexer": "ipython3",
   "version": "3.6.8"
  }
 },
 "nbformat": 4,
 "nbformat_minor": 2
}
